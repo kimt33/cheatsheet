{
 "cells": [
  {
   "cell_type": "markdown",
   "metadata": {},
   "source": [
    "Installation Cheatsheet\n",
    "============================="
   ]
  },
  {
   "cell_type": "markdown",
   "metadata": {},
   "source": [
    "General Tips\n",
    "--------------\n",
    "* Try not to use too many different package managers. They tend to not play well with each other.\n",
    "  * Use one or two package managers.\n",
    "\n",
    "* If you are going to be juggling different versions of python, use virtual environments.\n",
    "  * Virtual environments are available in conda.\n",
    "  \n",
    "* Try not to give `sudo` to package managers.\n",
    "  * Use `sudo` for one package manager (usually the package manager for your OS).\n",
    "  * Use reputable package managers.\n",
    "  * This also applies when you are building/compiling things.\n",
    "  \n",
    "* Try to install locally.\n",
    "  * Unless you are a system manager (which hopefully means that you know what you're doing), you\n",
    "    have no need to install things system wide.\n",
    "  * It is much easier to find and fix problems if you stay local. Worse case, we make a new user.\n",
    "  * It is **very much harder** to find and fix problems if your system is screwed up. Worse case, we\n",
    "    reinstall the OS (this is the \"easy\" fix).\n",
    "  * This also applies when you are building/compiling things.\n",
    "  \n",
    "* Try not to use environment variables, such as `PYTHONPATH`, especially in your bashrc.\n",
    "  * This causes some problems if you use more than one version of python.\n",
    "  * Use the `setup.py`.\n",
    "  * Use virtual environments.\n",
    "  * Use the `.local` directory."
   ]
  },
  {
   "cell_type": "markdown",
   "metadata": {},
   "source": [
    "Local Installation\n",
    "----------------------\n",
    "* Local installation often means that you are installing to your `.local` in your home directory.\n",
    "\n",
    "* `.local/bin` contains your installed executables.\n",
    "\n",
    "* `.local/lib` contains your installed codes. These can be compiled (especially if code requires\n",
    "  compilation).\n",
    "\n",
    "* `.local/share` contains your code-specific data.\n",
    "\n",
    "* `.local/lib/python_version/site-packages/` contains your installed python packages.\n",
    "\n",
    "* To delete a package, you just need to go through these directories (especially the `.local/lib`)\n",
    "  and delete the files that correspond to this package.\n",
    "\n",
    "  * Use your package manager to delete packages."
   ]
  },
  {
   "cell_type": "markdown",
   "metadata": {},
   "source": [
    "Pip\n",
    "----\n",
    "* Install package (`package`) from PyPI repository\n",
    "```bash\n",
    "pip install --user package\n",
    "```\n",
    "\n",
    "* Install package in a specific directory (`path`) with `setup.py`\n",
    "```bash\n",
    "pip install path\n",
    "```\n",
    "  * Note that just `path` was used and not `path/setup.py`.\n",
    "\n",
    "* Installing a package through pip results in **copying** the provided package to your\n",
    "  `.local/lib/python_version/site-packages/` directory.\n",
    "  \n",
    "* If the package you are installing is in development (e.g. git repository), then use\n",
    "```bash\n",
    "pip install path -e\n",
    "```\n",
    "\n",
    "  * You can technically use `pip install path`, but this would require you to reinstall your package\n",
    "    everytime your code is changed.\n",
    "  \n",
    "* Each pip is specific to a version of python.\n",
    "\n",
    "  * If you have more than one version of python, you will need to have more than one pip.\n",
    "  * Your system package manager may not handle different versions of pip very nicely.\n",
    "  * Use virtual environment (conda) if you have more than one version of python."
   ]
  },
  {
   "cell_type": "markdown",
   "metadata": {},
   "source": [
    "Conda\n",
    "------"
   ]
  },
  {
   "cell_type": "markdown",
   "metadata": {},
   "source": [
    "Installation\n",
    "\n",
    "* Try to install miniconda (rather than anaconda).\n",
    "\n",
    "  * Miniconda contains the minimum necessary for normal python packages (by default). If you plan on\n",
    "    installing packages and having multiple environments, miniconda will be easier to manage.\n",
    "  * Anaconda contains a lot of the python packages (by default). If you never plan on updating\n",
    "    anything and just want to have a stable python without ever having to worry about installation,\n",
    "    anaconda is *usually* alright.\n",
    "\n",
    "* Do not let conda write to your bashrc.\n",
    "\n",
    "  * This will overwrite your default python to that of conda.\n",
    "  * Try not to use package manager to install conda. Download the installation script from the \n",
    "    website."
   ]
  },
  {
   "cell_type": "markdown",
   "metadata": {},
   "source": [
    "Environments\n",
    "\n",
    "* Each environment is a (hopefully) an isolated platform from which you can develop your code.\n",
    "\n",
    "  * Paths are set up such that priority is given to the packages installed in your environment \n",
    "\n",
    "* Activate root conda environment\n",
    "```bash\n",
    "source ~/miniconda3/bin/activate\n",
    "```\n",
    "  \n",
    "  * You would only need to do this to create your first environment\n",
    "\n",
    "* Create your environment (e.g. `myenv`)\n",
    "```bash\n",
    "conda create -n myenv python=3.6\n",
    "```\n",
    "\n",
    "* Activate your conda environment (`myenv`)\n",
    "```bash\n",
    "source ~/miniconda3/bin/activate myenv\n",
    "```\n",
    "\n",
    "* You can create an alias to make activation faster\n",
    "```bash\n",
    "alias activate='source ~/miniconda3/bin/activate'\n",
    "```\n",
    "\n",
    "  * You can put this in your `.bashrc`"
   ]
  },
  {
   "cell_type": "markdown",
   "metadata": {},
   "source": [
    "Package Management\n",
    "\n",
    "* Install package (e.g. `package`) from anaconda repo\n",
    "```bash\n",
    "conda install package\n",
    "```\n",
    "\n",
    "* Install package from specific repo (e.g. `other_repo`)\n",
    "```bash\n",
    "conda install package -c other_repo\n",
    "```\n",
    "\n",
    "  * Try to use reputable repos (e.g. conda-forge)kjkj"
   ]
  }
 ],
 "metadata": {
  "kernelspec": {
   "display_name": "Python 3",
   "language": "python",
   "name": "python3"
  },
  "language_info": {
   "codemirror_mode": {
    "name": "ipython",
    "version": 3
   },
   "file_extension": ".py",
   "mimetype": "text/x-python",
   "name": "python",
   "nbconvert_exporter": "python",
   "pygments_lexer": "ipython3",
   "version": "3.6.2"
  }
 },
 "nbformat": 4,
 "nbformat_minor": 2
}
