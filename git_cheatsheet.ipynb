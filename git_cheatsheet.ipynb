{
 "cells": [
  {
   "cell_type": "markdown",
   "metadata": {},
   "source": [
    "Basic Comands\n",
    "======"
   ]
  },
  {
   "cell_type": "markdown",
   "metadata": {},
   "source": [
    "Clone\n",
    "------\n",
    "* Download the code from link (`link`)\n",
    "```shell\n",
    "git clone link\n",
    "```"
   ]
  },
  {
   "cell_type": "markdown",
   "metadata": {},
   "source": [
    "Remotes\n",
    "---------\n",
    "* Add someone else's repository (`link_someone`)\n",
    "```shell\n",
    "git remote add someone link_someone\n",
    "git fetch someone\n",
    "```\n",
    "\n",
    "* Don't forget to fetch"
   ]
  },
  {
   "cell_type": "markdown",
   "metadata": {},
   "source": [
    "Fetch\n",
    "------\n",
    "* Download things (changes/branches) in someone's repo (`reponame`)\n",
    "```shell\n",
    "git fetch reponame\n",
    "```\n",
    "\n",
    "* If you omit `reponame`, then it uses `origin` by default\n",
    "\n",
    "* If you don't fetch, you do not have access to any uploaded commits (since the last fetch)\n",
    "\n",
    "* **Always fetch**"
   ]
  },
  {
   "cell_type": "markdown",
   "metadata": {},
   "source": [
    "Branch\n",
    "-------\n",
    "* Do not start implementing new features onto your master (especially if you aren't comfortable with \n",
    "  rebase/merge/cherrypick)\n",
    "\n",
    "* Check which branch you are on with\n",
    "```shell\n",
    "git status\n",
    "```\n",
    "or\n",
    "```shell\n",
    "git branch\n",
    "```\n",
    "\n",
    "* Branch off from the commit (e.g. `scrummaster/master`) that you would like to be your reference\n",
    "```shell\n",
    "git branch my_feature scrummaster/master\n",
    "git checkout my_feature\n",
    "```\n",
    "or\n",
    "```shell\n",
    "git checkout scrummaster/master\n",
    "git branch my_feature\n",
    "git checkout my_feature\n",
    "```\n",
    "or\n",
    "```shell\n",
    "git checkout scrummaster/master\n",
    "git checkout -b my_feature\n",
    "```\n",
    "\n",
    "* If you're not comfortable with rebasing/merging, try not to branch off of a feature branch that \n",
    "  has not been accepted yet. Since it's not accepted, it will probably require changes, which may \n",
    "  require tricky rebase/merge later on.\n",
    "  \n",
    "* Even if there is strong dependency between these two branches (e.g. function from one of the \n",
    "  feature branch is needed), it is better to branch off of the repo master. This way, we will end up\n",
    "  with many small pull requests, rather than one giant pull request with all the dependencies. \n",
    "  However, it does make it harder to unit test. You would need to rebase onto the dependent branches\n",
    "  before your code does not crash. You can copy over files as untracked changes. You can also bug\n",
    "  your repo master to merge your pull request."
   ]
  },
  {
   "cell_type": "markdown",
   "metadata": {},
   "source": [
    "Commit\n",
    "-------\n",
    "* Save changes you made (to file `filename`)\n",
    "```shell\n",
    "git add filename\n",
    "git commit\n",
    "```\n",
    "\n",
    "* Modify your last commit (e.g. forgot to add changes to file `filename`, change commit message)\n",
    "```shell\n",
    "git add filename\n",
    "git commit --amend\n",
    "```\n",
    "\n",
    "* Commit for someone else. You can find their name from `git log`.\n",
    "```shell\n",
    "git add filename\n",
    "git commit --author='Full Name <email address>'\n",
    "```"
   ]
  },
  {
   "cell_type": "markdown",
   "metadata": {},
   "source": [
    "Rebase\n",
    "-------\n",
    "* Apply changes in a branch (e.g. `master`) in someone's repository (`someone`) to your own branch \n",
    "(e.g. `feature`)\n",
    "```shell\n",
    "git rebase someone/master feature\n",
    "```\n",
    "* Note that your changes `feature` come after the reference `someone/master`\n",
    "* Rebase interactively to drop, edit, reorder, or squash commits\n",
    "```shell\n",
    "\n",
    "git rebase -i someone/master feature\n",
    "```\n",
    "\n",
    "* Interactive rebase is an easy way to clean up your commits before a pull request. For example, if\n",
    "  you have many commits like `fix travis errors`, `fix more travis errors`, `fix more errors`, then\n",
    "  you can squash all those commits together into a single commit."
   ]
  },
  {
   "cell_type": "markdown",
   "metadata": {},
   "source": [
    "FAQ\n",
    "===="
   ]
  }
 ],
 "metadata": {
  "kernelspec": {
   "display_name": "Python 3",
   "language": "python",
   "name": "python3"
  },
  "language_info": {
   "codemirror_mode": {
    "name": "ipython",
    "version": 3
   },
   "file_extension": ".py",
   "mimetype": "text/x-python",
   "name": "python",
   "nbconvert_exporter": "python",
   "pygments_lexer": "ipython3",
   "version": "3.6.2"
  }
 },
 "nbformat": 4,
 "nbformat_minor": 2
}
