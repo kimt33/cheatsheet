{
 "cells": [
  {
   "cell_type": "markdown",
   "metadata": {},
   "source": [
    "Basic guide for MacOS users\n",
    "==="
   ]
  },
  {
   "cell_type": "markdown",
   "metadata": {},
   "source": [
    "path\n",
    "----\n",
    "On OSX, `path` and all the other `environmental variables` are controlled by some file located at your home directory.\n",
    "\n",
    "The priority is `~/.bash_profile` > `~/.profile` > `~/.bashrc`. Whenever you make a change to it. You need to either source it or open a new tab in terminal."
   ]
  },
  {
   "cell_type": "markdown",
   "metadata": {},
   "source": [
    "package manager (install only one from the following)\n",
    "----\n",
    "* MacPort\n",
    "* Homebrew\n",
    "* Conda\n",
    "\n"
   ]
  },
  {
   "cell_type": "markdown",
   "metadata": {},
   "source": [
    "Macport\n",
    "--"
   ]
  },
  {
   "cell_type": "markdown",
   "metadata": {},
   "source": [
    "* Default directory is `/opt/local`\n",
    "* Install every packages you need through MacPort if available \n",
    "```bash\n",
    "sudo port install {package_name}```\n",
    "* Install other python package you need with pip(python2) or pip3(python3)\n",
    "```bash\n",
    "pip install {package_name} --user```"
   ]
  },
  {
   "cell_type": "markdown",
   "metadata": {},
   "source": [
    "Homebrew\n",
    "------"
   ]
  },
  {
   "cell_type": "markdown",
   "metadata": {},
   "source": [
    "* Default directory is `/usr/local`\n",
    "* Install all non python packages with `homebrew` with\n",
    "```bash\n",
    "brew install {package_name}\n",
    "```\n",
    "* Install python packages you need with pip(python2) or pip3(python3)\n",
    "```bash\n",
    "pip install {package_name}\n",
    "```\n",
    "or\n",
    "```bash\n",
    "pip install {package_name} --user\n",
    "```"
   ]
  },
  {
   "cell_type": "markdown",
   "metadata": {},
   "source": [
    "Conda\n",
    "---"
   ]
  },
  {
   "cell_type": "markdown",
   "metadata": {},
   "source": [
    "* Default directory is the location you select when you installed. Usually it is your home directory\n",
    "* Install every packages you need through Conda if available\n",
    "```bash\n",
    "conda install {package_name}\n",
    "```\n",
    "* Install other package you need with pip(python2) or pip3(python3)\n",
    "```\n",
    "pip install {package_name} --user\n",
    "```"
   ]
  },
  {
   "cell_type": "raw",
   "metadata": {},
   "source": [
    "---------------------------------"
   ]
  },
  {
   "cell_type": "markdown",
   "metadata": {},
   "source": [
    "Pip\n",
    "---"
   ]
  },
  {
   "cell_type": "markdown",
   "metadata": {},
   "source": [
    "pip is a python package manager\n",
    "\n",
    "* Install package to default python path in `PATH`\n",
    "```bash\n",
    "pip install {package_name}\n",
    "```\n",
    "* Install package to `local_python_path`\n",
    "```bash\n",
    "pip install {package_name} --user\n",
    "```\n",
    "\n",
    "For second case\n",
    "* You `local_python_path` usually is `/Users/{user_name}/Library/Python/{python_version}`\n",
    "* If the `{package_name}` contains any executable command, please include the `{local_python_path}\\bin` folder in you `PATH` as well"
   ]
  },
  {
   "cell_type": "code",
   "execution_count": null,
   "metadata": {},
   "outputs": [],
   "source": []
  }
 ],
 "metadata": {
  "kernelspec": {
   "display_name": "Python 3",
   "language": "python",
   "name": "python3"
  },
  "language_info": {
   "codemirror_mode": {
    "name": "ipython",
    "version": 3
   },
   "file_extension": ".py",
   "mimetype": "text/x-python",
   "name": "python",
   "nbconvert_exporter": "python",
   "pygments_lexer": "ipython3",
   "version": "3.6.4"
  }
 },
 "nbformat": 4,
 "nbformat_minor": 2
}
